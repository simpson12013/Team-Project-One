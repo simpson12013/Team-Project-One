{
 "cells": [
  {
   "cell_type": "code",
   "execution_count": 1,
   "metadata": {},
   "outputs": [],
   "source": [
    "import json\n",
    "from pprint import pprint as pprint\n",
    "import pandas as pd\n",
    "import requests\n",
    "import gmaps\n",
    "from config import gmapsapi\n",
    "gmaps.configure(api_key=gmapsapi)"
   ]
  },
  {
   "cell_type": "code",
   "execution_count": 10,
   "metadata": {},
   "outputs": [],
   "source": [
    "year = 1980\n",
    "while year <= 2016:\n",
    "    year += 1\n",
    "    file = pd.read_csv(f\"../aqi_by_year_by_month/{year}countyaqi.csv\")\n",
    "    filedf = pd.DataFrame(file)\n",
    "    countynames = filedf[\"county Name\"].unique()\n",
    "    filedf.to_csv(f\"{year}_county_aqi.csv\")"
   ]
  },
  {
   "cell_type": "code",
   "execution_count": 5,
   "metadata": {},
   "outputs": [],
   "source": [
    "\n",
    "    "
   ]
  },
  {
   "cell_type": "code",
   "execution_count": 3,
   "metadata": {},
   "outputs": [],
   "source": [
    "latitude = []\n",
    "longitude = []\n",
    "for county in countynames:\n",
    "    target_county = county\n",
    "    target_url = (f\"https://maps.googleapis.com/maps/api/geocode/json?address={target_county}\")\n",
    "    geo_data = requests.get(target_url).json()\n",
    "    try:\n",
    "        lat = geo_data[\"results\"][0][\"geometry\"][\"location\"][\"lat\"]\n",
    "        latitude.append(lat)\n",
    "        lng = geo_data[\"results\"][0][\"geometry\"][\"location\"][\"lng\"]\n",
    "        longitude.append(lng)\n",
    "    except IndexError:\n",
    "        latitude.append(\"whoops\")\n",
    "        longitude.append(\"dope\")"
   ]
  },
  {
   "cell_type": "code",
   "execution_count": 4,
   "metadata": {},
   "outputs": [],
   "source": [
    "# county = \"Albany\"\n",
    "# target_url = (f\"https://maps.googleapis.com/maps/api/geocode/json?address={county}\")\n",
    "# geo_data = requests.get(target_url).json()\n",
    "# geo_data[\"results\"][0][\"geometry\"][\"location\"][\"lat\"]"
   ]
  },
  {
   "cell_type": "code",
   "execution_count": 5,
   "metadata": {},
   "outputs": [],
   "source": [
    "filedf[\"Latitude\"] = latitude\n",
    "filedf[\"Longitude\"] = longitude"
   ]
  },
  {
   "cell_type": "code",
   "execution_count": 6,
   "metadata": {},
   "outputs": [
    {
     "data": {
      "text/html": [
       "<div>\n",
       "<style scoped>\n",
       "    .dataframe tbody tr th:only-of-type {\n",
       "        vertical-align: middle;\n",
       "    }\n",
       "\n",
       "    .dataframe tbody tr th {\n",
       "        vertical-align: top;\n",
       "    }\n",
       "\n",
       "    .dataframe thead th {\n",
       "        text-align: right;\n",
       "    }\n",
       "</style>\n",
       "<table border=\"1\" class=\"dataframe\">\n",
       "  <thead>\n",
       "    <tr style=\"text-align: right;\">\n",
       "      <th></th>\n",
       "      <th>county Name</th>\n",
       "      <th>01</th>\n",
       "      <th>02</th>\n",
       "      <th>03</th>\n",
       "      <th>04</th>\n",
       "      <th>05</th>\n",
       "      <th>Latitude</th>\n",
       "      <th>Longitude</th>\n",
       "    </tr>\n",
       "  </thead>\n",
       "  <tbody>\n",
       "    <tr>\n",
       "      <th>0</th>\n",
       "      <td>Adams</td>\n",
       "      <td>30.065574</td>\n",
       "      <td>32.051282</td>\n",
       "      <td>31.182796</td>\n",
       "      <td>26.764706</td>\n",
       "      <td>NaN</td>\n",
       "      <td>36.743</td>\n",
       "      <td>-95.9117</td>\n",
       "    </tr>\n",
       "    <tr>\n",
       "      <th>1</th>\n",
       "      <td>Aiken</td>\n",
       "      <td>NaN</td>\n",
       "      <td>32.600000</td>\n",
       "      <td>41.666667</td>\n",
       "      <td>46.866667</td>\n",
       "      <td>NaN</td>\n",
       "      <td>33.5604</td>\n",
       "      <td>-81.7196</td>\n",
       "    </tr>\n",
       "    <tr>\n",
       "      <th>2</th>\n",
       "      <td>Alameda</td>\n",
       "      <td>60.451613</td>\n",
       "      <td>50.285714</td>\n",
       "      <td>NaN</td>\n",
       "      <td>NaN</td>\n",
       "      <td>NaN</td>\n",
       "      <td>37.7652</td>\n",
       "      <td>-122.242</td>\n",
       "    </tr>\n",
       "    <tr>\n",
       "      <th>3</th>\n",
       "      <td>Alamosa</td>\n",
       "      <td>29.827586</td>\n",
       "      <td>15.592593</td>\n",
       "      <td>19.774194</td>\n",
       "      <td>36.300000</td>\n",
       "      <td>NaN</td>\n",
       "      <td>whoops</td>\n",
       "      <td>dope</td>\n",
       "    </tr>\n",
       "    <tr>\n",
       "      <th>4</th>\n",
       "      <td>Albany</td>\n",
       "      <td>44.822581</td>\n",
       "      <td>43.017857</td>\n",
       "      <td>34.850000</td>\n",
       "      <td>NaN</td>\n",
       "      <td>NaN</td>\n",
       "      <td>whoops</td>\n",
       "      <td>dope</td>\n",
       "    </tr>\n",
       "  </tbody>\n",
       "</table>\n",
       "</div>"
      ],
      "text/plain": [
       "  county Name         01         02         03         04  05 Latitude  \\\n",
       "0       Adams  30.065574  32.051282  31.182796  26.764706 NaN   36.743   \n",
       "1       Aiken        NaN  32.600000  41.666667  46.866667 NaN  33.5604   \n",
       "2     Alameda  60.451613  50.285714        NaN        NaN NaN  37.7652   \n",
       "3     Alamosa  29.827586  15.592593  19.774194  36.300000 NaN   whoops   \n",
       "4      Albany  44.822581  43.017857  34.850000        NaN NaN   whoops   \n",
       "\n",
       "  Longitude  \n",
       "0  -95.9117  \n",
       "1  -81.7196  \n",
       "2  -122.242  \n",
       "3      dope  \n",
       "4      dope  "
      ]
     },
     "execution_count": 6,
     "metadata": {},
     "output_type": "execute_result"
    }
   ],
   "source": [
    "filedf.head()"
   ]
  },
  {
   "cell_type": "code",
   "execution_count": 34,
   "metadata": {},
   "outputs": [],
   "source": [
    "finaldf = filedf[filedf.Latitude != \"whoops\"]\n"
   ]
  },
  {
   "cell_type": "code",
   "execution_count": 82,
   "metadata": {},
   "outputs": [],
   "source": [
    "coordinates = finaldf[[\"Latitude\", \"Longitude\"]].astype(float)\n",
    "center = [\"39.8283\",\"-98.5795\"]\n",
    "fig = gmaps.figure(zoom_level= 4, center = center)"
   ]
  },
  {
   "cell_type": "code",
   "execution_count": 83,
   "metadata": {},
   "outputs": [
    {
     "data": {
      "application/vnd.jupyter.widget-view+json": {
       "model_id": "e83e456fc7064181974364666f8156b9",
       "version_major": 2,
       "version_minor": 0
      },
      "text/plain": [
       "Figure(layout=FigureLayout(height='420px'))"
      ]
     },
     "metadata": {},
     "output_type": "display_data"
    }
   ],
   "source": [
    "\n",
    "heatmaplayer = gmaps.heatmap_layer(coordinates, weights = finaldf[\"01\"],\n",
    "                                   max_intensity = filedf[\"01\"].max(), point_radius = 1.0)\n",
    "fig.add_layer(heatmaplayer)\n",
    "fig"
   ]
  },
  {
   "cell_type": "code",
   "execution_count": null,
   "metadata": {},
   "outputs": [],
   "source": []
  }
 ],
 "metadata": {
  "kernelspec": {
   "display_name": "Python 3",
   "language": "python",
   "name": "python3"
  },
  "language_info": {
   "codemirror_mode": {
    "name": "ipython",
    "version": 3
   },
   "file_extension": ".py",
   "mimetype": "text/x-python",
   "name": "python",
   "nbconvert_exporter": "python",
   "pygments_lexer": "ipython3",
   "version": "3.6.5"
  }
 },
 "nbformat": 4,
 "nbformat_minor": 2
}
