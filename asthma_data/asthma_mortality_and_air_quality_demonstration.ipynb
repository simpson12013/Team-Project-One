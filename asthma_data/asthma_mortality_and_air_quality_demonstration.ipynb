{
 "cells": [
  {
   "cell_type": "code",
   "execution_count": 23,
   "metadata": {},
   "outputs": [],
   "source": [
    "#import dependencies\n",
    "%matplotlib notebook\n",
    "import csv\n",
    "import numpy as np\n",
    "import pandas as pd\n",
    "import requests\n",
    "import seaborn as sns\n",
    "import matplotlib.pyplot as plt\n",
    "#from config import api_key\n",
    "from citipy import citipy\n",
    "import random\n",
    "import json\n",
    "from pprint import pprint\n",
    "import time\n",
    "import gmaps"
   ]
  },
  {
   "cell_type": "code",
   "execution_count": 45,
   "metadata": {},
   "outputs": [],
   "source": [
    "mort_2010 = pd.read_csv('asthma_mortality_2010.csv')\n",
    "mort_2011 = pd.read_csv('asthma_mortality_2011.csv')\n",
    "mort_2012 = pd.read_csv('asthma_mortality_2012.csv')\n",
    "mort_2013 = pd.read_csv('asthma_mortality_2013.csv')\n",
    "mort_2014 = pd.read_csv('asthma_mortality_2014.csv')"
   ]
  },
  {
   "cell_type": "code",
   "execution_count": 46,
   "metadata": {},
   "outputs": [],
   "source": [
    "aqi_yearly = pd.read_csv('aqi_state_yearly.csv')"
   ]
  },
  {
   "cell_type": "code",
   "execution_count": 48,
   "metadata": {},
   "outputs": [],
   "source": [
    "aqi_2010_df = aqi_yearly[['Unnamed: 0','2010']]\n",
    "aqi_2010_df = aqi_2010_df.rename(columns={'Unnamed: 0': 'state'})\n",
    "aqi_2011_df = aqi_yearly[['Unnamed: 0','2011']]\n",
    "aqi_2011_df = aqi_2011_df.rename(columns={'Unnamed: 0': 'state'})\n",
    "aqi_2012_df = aqi_yearly[['Unnamed: 0','2012']]\n",
    "aqi_2012_df = aqi_2012_df.rename(columns={'Unnamed: 0': 'state'})\n",
    "aqi_2013_df = aqi_yearly[['Unnamed: 0','2013']]\n",
    "aqi_2013_df = aqi_2013_df.rename(columns={'Unnamed: 0': 'state'})\n",
    "aqi_2014_df = aqi_yearly[['Unnamed: 0','2014']]\n",
    "aqi_2014_df = aqi_2014_df.rename(columns={'Unnamed: 0': 'state'})"
   ]
  },
  {
   "cell_type": "code",
   "execution_count": null,
   "metadata": {},
   "outputs": [],
   "source": []
  },
  {
   "cell_type": "code",
   "execution_count": null,
   "metadata": {},
   "outputs": [],
   "source": []
  }
 ],
 "metadata": {
  "kernelspec": {
   "display_name": "Python 3",
   "language": "python",
   "name": "python3"
  },
  "language_info": {
   "codemirror_mode": {
    "name": "ipython",
    "version": 3
   },
   "file_extension": ".py",
   "mimetype": "text/x-python",
   "name": "python",
   "nbconvert_exporter": "python",
   "pygments_lexer": "ipython3",
   "version": "3.6.5"
  }
 },
 "nbformat": 4,
 "nbformat_minor": 2
}
